{
 "cells": [
  {
   "cell_type": "markdown",
   "id": "f0b80197-1a08-40a9-939a-cdd427305b2b",
   "metadata": {},
   "source": [
    "# Introduction to Python"
   ]
  },
  {
   "cell_type": "markdown",
   "id": "73cb0c29-431a-493c-bba7-f24da5d88c00",
   "metadata": {},
   "source": [
    "## Mathematical Operations"
   ]
  },
  {
   "cell_type": "code",
   "execution_count": 1,
   "id": "23d70999-0104-48d3-bacb-989c876cb035",
   "metadata": {},
   "outputs": [
    {
     "name": "stdout",
     "output_type": "stream",
     "text": [
      "Hello World\n"
     ]
    }
   ],
   "source": [
    "print(\"Hello World\")"
   ]
  },
  {
   "cell_type": "code",
   "execution_count": 2,
   "id": "dac2d1af-1cc3-4a88-9f83-0755b9027ee2",
   "metadata": {},
   "outputs": [
    {
     "name": "stdout",
     "output_type": "stream",
     "text": [
      "Hello World\n"
     ]
    }
   ],
   "source": [
    "print('Hello World')"
   ]
  },
  {
   "cell_type": "code",
   "execution_count": 3,
   "id": "0c92be6e-5220-4fb4-9ddd-d2a11384e96b",
   "metadata": {},
   "outputs": [
    {
     "data": {
      "text/plain": [
       "'Hello World'"
      ]
     },
     "execution_count": 3,
     "metadata": {},
     "output_type": "execute_result"
    }
   ],
   "source": [
    "'Hello World'"
   ]
  },
  {
   "cell_type": "code",
   "execution_count": 4,
   "id": "4ad4954b-f872-4e33-bfc1-be5e4cf8db01",
   "metadata": {},
   "outputs": [
    {
     "data": {
      "text/plain": [
       "6891"
      ]
     },
     "execution_count": 4,
     "metadata": {},
     "output_type": "execute_result"
    }
   ],
   "source": [
    "6834+57"
   ]
  },
  {
   "cell_type": "code",
   "execution_count": 5,
   "id": "a615d9c0-c0c5-4e6a-9fbd-84fab1134400",
   "metadata": {},
   "outputs": [
    {
     "data": {
      "text/plain": [
       "389538"
      ]
     },
     "execution_count": 5,
     "metadata": {},
     "output_type": "execute_result"
    }
   ],
   "source": [
    "6834*57"
   ]
  },
  {
   "cell_type": "code",
   "execution_count": 6,
   "id": "18ca243d-eda1-4d14-bd79-e851d0ab84c0",
   "metadata": {},
   "outputs": [
    {
     "data": {
      "text/plain": [
       "119.89473684210526"
      ]
     },
     "execution_count": 6,
     "metadata": {},
     "output_type": "execute_result"
    }
   ],
   "source": [
    "6834/57"
   ]
  },
  {
   "cell_type": "markdown",
   "id": "893f809d-874f-4908-94cd-ed9660c47f72",
   "metadata": {},
   "source": [
    "Quotient-Remainder calculations"
   ]
  },
  {
   "cell_type": "code",
   "execution_count": 7,
   "id": "e55d5d65-6fd5-4753-84b0-ef09034d81a6",
   "metadata": {},
   "outputs": [
    {
     "data": {
      "text/plain": [
       "119"
      ]
     },
     "execution_count": 7,
     "metadata": {},
     "output_type": "execute_result"
    }
   ],
   "source": [
    "6834//57 # Returns quotient"
   ]
  },
  {
   "cell_type": "code",
   "execution_count": 4,
   "id": "5b5c6f22-85e9-48f1-808c-8d412d243df9",
   "metadata": {},
   "outputs": [
    {
     "data": {
      "text/plain": [
       "6891"
      ]
     },
     "execution_count": 4,
     "metadata": {},
     "output_type": "execute_result"
    }
   ],
   "source": [
    "6834+57"
   ]
  },
  {
   "cell_type": "code",
   "execution_count": 8,
   "id": "b11daa40-7909-4d90-ad4f-9dc145219677",
   "metadata": {},
   "outputs": [
    {
     "data": {
      "text/plain": [
       "51"
      ]
     },
     "execution_count": 8,
     "metadata": {},
     "output_type": "execute_result"
    }
   ],
   "source": [
    "6834%57  # Returns reminder"
   ]
  },
  {
   "cell_type": "code",
   "execution_count": 9,
   "id": "20eb3613-1195-419a-89fa-ba6a8834a31c",
   "metadata": {},
   "outputs": [],
   "source": [
    "a = 6834\n",
    "b = 57"
   ]
  },
  {
   "cell_type": "code",
   "execution_count": 10,
   "id": "532e2af7-4b16-47a9-8064-eaf8e484fd7e",
   "metadata": {},
   "outputs": [
    {
     "name": "stdout",
     "output_type": "stream",
     "text": [
      "6834 57\n"
     ]
    }
   ],
   "source": [
    "print(a,b)"
   ]
  },
  {
   "cell_type": "code",
   "execution_count": 13,
   "id": "dcadbd58-1609-492a-839f-2f7edf192fad",
   "metadata": {},
   "outputs": [
    {
     "name": "stdout",
     "output_type": "stream",
     "text": [
      "119 51\n"
     ]
    }
   ],
   "source": [
    "q = a // b\n",
    "r = a % b\n",
    "print(q,r)"
   ]
  },
  {
   "cell_type": "code",
   "execution_count": 15,
   "id": "91b61ecf-96e9-46a3-acfd-2d090f9344c6",
   "metadata": {},
   "outputs": [
    {
     "data": {
      "text/plain": [
       "True"
      ]
     },
     "execution_count": 15,
     "metadata": {},
     "output_type": "execute_result"
    }
   ],
   "source": [
    "b * q + r == a"
   ]
  },
  {
   "cell_type": "code",
   "execution_count": 16,
   "id": "10efd6f0-d5fa-49bc-a695-a81dd6577ed8",
   "metadata": {},
   "outputs": [
    {
     "data": {
      "text/plain": [
       "14348907"
      ]
     },
     "execution_count": 16,
     "metadata": {},
     "output_type": "execute_result"
    }
   ],
   "source": [
    "27 ** 5"
   ]
  },
  {
   "cell_type": "code",
   "execution_count": 17,
   "id": "26d2f282-6e8d-4aa1-a8b7-aba8c9f3bdb3",
   "metadata": {},
   "outputs": [
    {
     "data": {
      "text/plain": [
       "369988485035126972924700782451696644186473100389722973815184405301748249"
      ]
     },
     "execution_count": 17,
     "metadata": {},
     "output_type": "execute_result"
    }
   ],
   "source": [
    "27 ** 50"
   ]
  },
  {
   "cell_type": "code",
   "execution_count": 18,
   "id": "01a7c396-6e1d-4071-a08a-380f122d0ec5",
   "metadata": {},
   "outputs": [
    {
     "data": {
      "text/plain": [
       "48070880771127017833418400063860424893242447244924514895934503717501143296921795358699176265818477116722784375947578590606979154024171864166329574817483293881028710535973176979596219731991520830514694374771774636807890694422882343405923800484901643617730596619404600897026159986915501340493142975234272618070552045897911225971238672179839452802948951292415324993705491602964046899687216179315011278589147831368447276641586915959626203950458493082639154256082431390089707830063939127099439149976981589631028284734703098118977079002245835870735258166305134365786114813430895809196712363741859052802752740452546018161315848383393769720388551835786294645941781480734757813395139416102084849079404619569979968322432830001"
      ]
     },
     "execution_count": 18,
     "metadata": {},
     "output_type": "execute_result"
    }
   ],
   "source": [
    "27 ** 500"
   ]
  },
  {
   "cell_type": "code",
   "execution_count": 19,
   "id": "fe3ebb9a-7171-4cca-888a-bbbfe0326449",
   "metadata": {},
   "outputs": [
    {
     "data": {
      "text/plain": [
       "5.196152422706632"
      ]
     },
     "execution_count": 19,
     "metadata": {},
     "output_type": "execute_result"
    }
   ],
   "source": [
    "27 **  (0.5)"
   ]
  },
  {
   "cell_type": "code",
   "execution_count": 24,
   "id": "c3746027-6af4-46e8-b405-c19e52c197fb",
   "metadata": {},
   "outputs": [
    {
     "name": "stdout",
     "output_type": "stream",
     "text": [
      "25500.0 26139.200128187495\n"
     ]
    }
   ],
   "source": [
    "P = 20000\n",
    "R = 5.5\n",
    "T = 5\n",
    "Amount1 = P + (P*R*(T/100))\n",
    "Amount2 = P * (1 + R/100) ** T\n",
    "print(Amount1, Amount2)"
   ]
  },
  {
   "cell_type": "markdown",
   "id": "ee775b5e-0d75-452d-994d-f30762031745",
   "metadata": {},
   "source": [
    "The return with simple interest at 5.5% after 5 year is 25000."
   ]
  },
  {
   "cell_type": "code",
   "execution_count": 26,
   "id": "dfc43d44-a140-4659-bf82-afd0e939af90",
   "metadata": {},
   "outputs": [
    {
     "name": "stdout",
     "output_type": "stream",
     "text": [
      "The return with simple interest at 5.5% after 5 years is R25500.0.\n"
     ]
    }
   ],
   "source": [
    "print(f'The return with simple interest at {R}% after {T} years is R{Amount1}.')"
   ]
  },
  {
   "cell_type": "code",
   "execution_count": 27,
   "id": "a00e0298-3465-4e87-9044-5224709e3bbb",
   "metadata": {},
   "outputs": [
    {
     "name": "stdout",
     "output_type": "stream",
     "text": [
      "The return with compound interest at 5.5% after 5 years is R26139.200128187495.\n"
     ]
    }
   ],
   "source": [
    "print(f'The return with compound interest at {R}% after {T} years is R{Amount2}.')"
   ]
  },
  {
   "cell_type": "code",
   "execution_count": 5,
   "id": "7b018442-4745-4045-a8b9-4539b3d62ae7",
   "metadata": {},
   "outputs": [
    {
     "name": "stdout",
     "output_type": "stream",
     "text": [
      "25500.0 26139.200128187495\n"
     ]
    }
   ],
   "source": [
    "P = 20000\n",
    "R = 5.5\n",
    "T = 5\n",
    "Amount1 = P + (P*R*(T/100))\n",
    "Amount2 = P * (1 + R/100) ** T\n",
    "print(Amount1, Amount2)"
   ]
  },
  {
   "cell_type": "code",
   "execution_count": 20,
   "id": "186f3d9a-129c-4f5c-b314-b9eadd55cfc9",
   "metadata": {},
   "outputs": [
    {
     "name": "stdout",
     "output_type": "stream",
     "text": [
      "The return with compound interest at 5.5% after 5 years is R26139.200128.\n"
     ]
    }
   ],
   "source": [
    "print(f'The return with compound interest at {R}% after {T} years is R{Amount2:10f}.')"
   ]
  },
  {
   "cell_type": "code",
   "execution_count": 13,
   "id": "1cbc78e0-e79c-41ce-a7b1-184f3c5338b6",
   "metadata": {},
   "outputs": [
    {
     "name": "stdout",
     "output_type": "stream",
     "text": [
      "The return with compound interest at 5.5% after 5 years is R26139.20013.\n"
     ]
    }
   ],
   "source": [
    "print(f'The return with compound interest at {R}% after {T} years is R{Amount2:.10}.')"
   ]
  },
  {
   "cell_type": "code",
   "execution_count": null,
   "id": "79bdbd7a-8ccf-4e3d-be2f-54b209269cf6",
   "metadata": {},
   "outputs": [],
   "source": []
  }
 ],
 "metadata": {
  "kernelspec": {
   "display_name": "Python 3 (ipykernel)",
   "language": "python",
   "name": "python3"
  },
  "language_info": {
   "codemirror_mode": {
    "name": "ipython",
    "version": 3
   },
   "file_extension": ".py",
   "mimetype": "text/x-python",
   "name": "python",
   "nbconvert_exporter": "python",
   "pygments_lexer": "ipython3",
   "version": "3.12.1"
  }
 },
 "nbformat": 4,
 "nbformat_minor": 5
}
