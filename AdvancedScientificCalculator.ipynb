{
 "cells": [
  {
   "cell_type": "markdown",
   "id": "e886daf5-c0fa-4c09-8e26-14b540c45f09",
   "metadata": {},
   "source": [
    "# Python as an advanced calculator"
   ]
  },
  {
   "cell_type": "code",
   "execution_count": 2,
   "id": "cc8c0d9e-5134-44d5-a884-7a0b5f7592c9",
   "metadata": {},
   "outputs": [],
   "source": [
    "import math"
   ]
  },
  {
   "cell_type": "code",
   "execution_count": 4,
   "id": "5152d927-324e-4dd2-97b6-c43faf639dc1",
   "metadata": {},
   "outputs": [
    {
     "data": {
      "text/plain": [
       "2.23606797749979"
      ]
     },
     "execution_count": 4,
     "metadata": {},
     "output_type": "execute_result"
    }
   ],
   "source": [
    "math.sqrt(5)"
   ]
  },
  {
   "cell_type": "code",
   "execution_count": 2,
   "id": "5769e1b1-1974-4fd7-a461-596d3e38ff25",
   "metadata": {},
   "outputs": [],
   "source": [
    "import math"
   ]
  },
  {
   "cell_type": "code",
   "execution_count": 3,
   "id": "7ed254d4-6864-466a-bfad-5d4d0d8a1714",
   "metadata": {},
   "outputs": [
    {
     "data": {
      "text/plain": [
       "1.4142135623730951"
      ]
     },
     "execution_count": 3,
     "metadata": {},
     "output_type": "execute_result"
    }
   ],
   "source": [
    "math.sqrt(2)"
   ]
  },
  {
   "cell_type": "code",
   "execution_count": 4,
   "id": "89738dd2-3c5e-4b84-8642-7fb7c921a579",
   "metadata": {},
   "outputs": [
    {
     "data": {
      "text/plain": [
       "1"
      ]
     },
     "execution_count": 4,
     "metadata": {},
     "output_type": "execute_result"
    }
   ],
   "source": [
    "math.gcd(655677, 785443)"
   ]
  },
  {
   "cell_type": "code",
   "execution_count": 5,
   "id": "17306f29-063e-4c68-8297-5487e2f9f40c",
   "metadata": {},
   "outputs": [
    {
     "name": "stdout",
     "output_type": "stream",
     "text": [
      "Help on built-in function gcd in module math:\n",
      "\n",
      "gcd(*integers)\n",
      "    Greatest Common Divisor.\n",
      "\n"
     ]
    }
   ],
   "source": [
    "help(math.gcd)"
   ]
  },
  {
   "cell_type": "code",
   "execution_count": 7,
   "id": "8caceb46-675d-414a-b229-a1cd750c136d",
   "metadata": {},
   "outputs": [
    {
     "name": "stdout",
     "output_type": "stream",
     "text": [
      "Help on built-in function sin in module math:\n",
      "\n",
      "sin(x, /)\n",
      "    Return the sine of x (measured in radians).\n",
      "\n"
     ]
    }
   ],
   "source": [
    "help(math.sin)"
   ]
  },
  {
   "cell_type": "markdown",
   "id": "a06ed516-dc45-4537-a157-82dff2376d37",
   "metadata": {},
   "source": [
    "## Permutations and combinations"
   ]
  },
  {
   "cell_type": "code",
   "execution_count": 14,
   "id": "a9bb1272-eba2-4de8-bb47-83f872d2f4af",
   "metadata": {},
   "outputs": [],
   "source": [
    "from math import perm, comb, factorial"
   ]
  },
  {
   "cell_type": "code",
   "execution_count": 12,
   "id": "1826ff39-143f-41ec-a663-6d053481b973",
   "metadata": {},
   "outputs": [
    {
     "data": {
      "text/plain": [
       "125970"
      ]
     },
     "execution_count": 12,
     "metadata": {},
     "output_type": "execute_result"
    }
   ],
   "source": [
    "n = 20\n",
    "r = 12\n",
    "\n",
    "perm(n, r)\n",
    "comb(n, r)"
   ]
  },
  {
   "cell_type": "code",
   "execution_count": 15,
   "id": "88143553-4443-42d8-aab8-b17e9c5fa2be",
   "metadata": {},
   "outputs": [
    {
     "data": {
      "text/plain": [
       "True"
      ]
     },
     "execution_count": 15,
     "metadata": {},
     "output_type": "execute_result"
    }
   ],
   "source": [
    "perm(n, r)==factorial(n)/factorial(n-r)"
   ]
  },
  {
   "cell_type": "code",
   "execution_count": 16,
   "id": "cf2cb29d-4ee2-447b-94b9-36e92a24f3ee",
   "metadata": {},
   "outputs": [
    {
     "data": {
      "text/plain": [
       "True"
      ]
     },
     "execution_count": 16,
     "metadata": {},
     "output_type": "execute_result"
    }
   ],
   "source": [
    "comb(n, r)==factorial(n)/(factorial(r)*factorial(n-r))"
   ]
  },
  {
   "cell_type": "code",
   "execution_count": 17,
   "id": "62bd7d1f-cfbf-4a99-acb5-6cff071c859e",
   "metadata": {},
   "outputs": [],
   "source": [
    "from math import *"
   ]
  },
  {
   "cell_type": "code",
   "execution_count": 18,
   "id": "da8339d8-40ca-4a8d-b6d7-90ac55036851",
   "metadata": {},
   "outputs": [
    {
     "data": {
      "text/plain": [
       "1.4142135623730951"
      ]
     },
     "execution_count": 18,
     "metadata": {},
     "output_type": "execute_result"
    }
   ],
   "source": [
    "sqrt(2)"
   ]
  },
  {
   "cell_type": "code",
   "execution_count": 19,
   "id": "2902af13-fa85-4f6a-9ace-0269ad38c162",
   "metadata": {},
   "outputs": [],
   "source": [
    "import cmath"
   ]
  },
  {
   "cell_type": "code",
   "execution_count": 21,
   "id": "ab5df98a-4f89-4029-8e81-c7e1a2da1b01",
   "metadata": {},
   "outputs": [
    {
     "data": {
      "text/plain": [
       "1.4142135623730951j"
      ]
     },
     "execution_count": 21,
     "metadata": {},
     "output_type": "execute_result"
    }
   ],
   "source": [
    "cmath.sqrt(-2)"
   ]
  },
  {
   "cell_type": "code",
   "execution_count": 22,
   "id": "0104d3de-3d7c-4473-9fec-a91b4264f42a",
   "metadata": {},
   "outputs": [
    {
     "data": {
      "text/plain": [
       "(2.3271175190399496+0.6445742373246469j)"
      ]
     },
     "execution_count": 22,
     "metadata": {},
     "output_type": "execute_result"
    }
   ],
   "source": [
    "z = 5+3j\n",
    "cmath.sqrt(z)"
   ]
  },
  {
   "cell_type": "markdown",
   "id": "3a544355-eebb-4570-a735-a6334b4caff5",
   "metadata": {},
   "source": [
    "## Solving a quadratic"
   ]
  },
  {
   "cell_type": "code",
   "execution_count": 4,
   "id": "e607c8ae-ccea-4b09-8f32-fca9dac6c304",
   "metadata": {},
   "outputs": [],
   "source": [
    "from math import *"
   ]
  },
  {
   "cell_type": "code",
   "execution_count": 5,
   "id": "e131938e-3d3f-4264-abb8-9a0097d8d389",
   "metadata": {},
   "outputs": [
    {
     "name": "stdout",
     "output_type": "stream",
     "text": [
      "The roots are 0.9067177514850918 and -2.5733844181517584\n"
     ]
    }
   ],
   "source": [
    "a, b, c = 3, 5, -7\n",
    "x1 = (-b+sqrt(b**2-4*a*c))/(2*a)\n",
    "x2 = (-b-sqrt(b**2-4*a*c))/(2*a)\n",
    "print(f'The roots are {x1} and {x2}')"
   ]
  },
  {
   "cell_type": "code",
   "execution_count": 6,
   "id": "1dc78f3f-eb47-45b0-9d73-e1488ffac19f",
   "metadata": {},
   "outputs": [
    {
     "name": "stdin",
     "output_type": "stream",
     "text": [
      "Enter the value of a: 3\n"
     ]
    }
   ],
   "source": [
    "a = input('Enter the value of a:')"
   ]
  },
  {
   "cell_type": "code",
   "execution_count": 7,
   "id": "56de0493-64a4-48c2-99c9-5b73c1636118",
   "metadata": {},
   "outputs": [
    {
     "data": {
      "text/plain": [
       "'3'"
      ]
     },
     "execution_count": 7,
     "metadata": {},
     "output_type": "execute_result"
    }
   ],
   "source": [
    "a"
   ]
  },
  {
   "cell_type": "code",
   "execution_count": 8,
   "id": "50e1798a-2bc6-46b1-9bfa-146d93b9063c",
   "metadata": {},
   "outputs": [
    {
     "name": "stdin",
     "output_type": "stream",
     "text": [
      "Enter the value of a: 3\n"
     ]
    }
   ],
   "source": [
    "a = float(input('Enter the value of a:'))"
   ]
  },
  {
   "cell_type": "code",
   "execution_count": 9,
   "id": "2f5d0fe9-bf48-4507-91af-5f3c59186b86",
   "metadata": {},
   "outputs": [
    {
     "data": {
      "text/plain": [
       "3.0"
      ]
     },
     "execution_count": 9,
     "metadata": {},
     "output_type": "execute_result"
    }
   ],
   "source": [
    "a"
   ]
  },
  {
   "cell_type": "code",
   "execution_count": 14,
   "id": "c2781a1b-2bb6-4d3b-8328-9509e3e1f52c",
   "metadata": {},
   "outputs": [
    {
     "name": "stdin",
     "output_type": "stream",
     "text": [
      "Enter the value of a: 3\n",
      "Enter the value of b: 5\n",
      "Enter the value of c: -7\n"
     ]
    },
    {
     "name": "stdout",
     "output_type": "stream",
     "text": [
      "The roots are 0.9067177514850918 and -2.5733844181517584\n"
     ]
    }
   ],
   "source": [
    "a = float(input('Enter the value of a:'))\n",
    "b = float(input('Enter the value of b:'))\n",
    "c = float(input('Enter the value of c:'))\n",
    "\n",
    "x1 = (-b+sqrt(b**2-4*a*c))/(2*a)\n",
    "x2 = (-b-sqrt(b**2-4*a*c))/(2*a)\n",
    "\n",
    "print(f'The roots are {x1} and {x2}')"
   ]
  },
  {
   "cell_type": "code",
   "execution_count": 17,
   "id": "34aec871-d08b-4c1f-b2fc-eeed7129e4a6",
   "metadata": {},
   "outputs": [
    {
     "name": "stdin",
     "output_type": "stream",
     "text": [
      "Enter the value of a: 5\n",
      "Enter the value of b: 6\n",
      "Enter the value of c: 7\n"
     ]
    },
    {
     "name": "stdout",
     "output_type": "stream",
     "text": [
      "The area given by 14.7\n",
      "The area given by 14.6969\n"
     ]
    }
   ],
   "source": [
    "a = float(input('Enter the value of a:'))\n",
    "b = float(input('Enter the value of b:'))\n",
    "c = float(input('Enter the value of c:'))\n",
    "\n",
    "s = (a+b+c)/(2.0)\n",
    "A = sqrt(s*(s-a)*(s-b)*(s-c))\n",
    "\n",
    "print(f'The area given by {A:.4}')\n",
    "print(f'The area given by {A:.4f}')"
   ]
  },
  {
   "cell_type": "code",
   "execution_count": 19,
   "id": "5112f228-953c-4526-9f26-5b39e1e09581",
   "metadata": {},
   "outputs": [
    {
     "data": {
      "text/plain": [
       "93326215443944152681699238856266700490715968264381621468592963895217599993229915608941463976156518286253697920827223758251185210916864000000000000000000000000"
      ]
     },
     "execution_count": 19,
     "metadata": {},
     "output_type": "execute_result"
    }
   ],
   "source": [
    "factorial(100)"
   ]
  },
  {
   "cell_type": "code",
   "execution_count": 23,
   "id": "2c702505-34fd-4032-b9f5-2326b0d38388",
   "metadata": {},
   "outputs": [
    {
     "name": "stdin",
     "output_type": "stream",
     "text": [
      "Enter the radius of a circle: 6\n"
     ]
    },
    {
     "name": "stdout",
     "output_type": "stream",
     "text": [
      "The area of a sphere is: 452.3893421169302\n",
      "The volume of a sphere is: 904.7786842338603\n"
     ]
    }
   ],
   "source": [
    "r = float(input('Enter the radius of a circle:'))\n",
    "\n",
    "a= 4*math.pi*(r**2)\n",
    "v = (4/3)*math.pi*(r**3)\n",
    "\n",
    "print(f'The area of a sphere is: {a}')\n",
    "print(f'The volume of a sphere is: {v}')\n"
   ]
  },
  {
   "cell_type": "code",
   "execution_count": null,
   "id": "08e27369-d12d-47c3-af47-868c3a97cd06",
   "metadata": {},
   "outputs": [],
   "source": [
    "z = float(input('Enter the value of z:'))\n",
    "\n",
    "\n",
    "\n"
   ]
  }
 ],
 "metadata": {
  "kernelspec": {
   "display_name": "Python 3 (ipykernel)",
   "language": "python",
   "name": "python3"
  },
  "language_info": {
   "codemirror_mode": {
    "name": "ipython",
    "version": 3
   },
   "file_extension": ".py",
   "mimetype": "text/x-python",
   "name": "python",
   "nbconvert_exporter": "python",
   "pygments_lexer": "ipython3",
   "version": "3.12.1"
  }
 },
 "nbformat": 4,
 "nbformat_minor": 5
}
