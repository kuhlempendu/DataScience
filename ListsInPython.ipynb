{
 "cells": [
  {
   "cell_type": "markdown",
   "id": "208691fd-e37d-4b9f-97d6-2a63e52132c2",
   "metadata": {},
   "source": [
    "# Built-in Data Structures in Python"
   ]
  },
  {
   "cell_type": "code",
   "execution_count": 1,
   "id": "1fc11c58-1c3e-4aa2-9454-82f1cc747c9b",
   "metadata": {},
   "outputs": [],
   "source": [
    "a, b, c, d = 635, 434.7353, 'Python', 4+3j"
   ]
  },
  {
   "cell_type": "code",
   "execution_count": 2,
   "id": "7afa39bf-cc2d-4c49-8ae7-76303e9dbf49",
   "metadata": {},
   "outputs": [
    {
     "data": {
      "text/plain": [
       "(int, float, str, complex)"
      ]
     },
     "execution_count": 2,
     "metadata": {},
     "output_type": "execute_result"
    }
   ],
   "source": [
    "type(a),type(b),type(c),type(d)"
   ]
  },
  {
   "cell_type": "markdown",
   "id": "4b0ab7bd-8231-441e-b37b-b95ce2d1f76a",
   "metadata": {},
   "source": [
    "## There are 4 built-in data structures in python: Lists, Tuples, Sets, and Dictionaries"
   ]
  },
  {
   "cell_type": "markdown",
   "id": "1746b786-69e3-4e18-9640-381266ec6f63",
   "metadata": {},
   "source": [
    "### Use of three bracket: square, round, and curly braces"
   ]
  },
  {
   "cell_type": "code",
   "execution_count": 3,
   "id": "2d1a1398-1e9f-4541-ab02-531e0a352c09",
   "metadata": {},
   "outputs": [],
   "source": [
    "x, y, z = [], (), {}"
   ]
  },
  {
   "cell_type": "code",
   "execution_count": 4,
   "id": "3dcc4aca-43b7-4eb3-815c-ec980974ec7c",
   "metadata": {},
   "outputs": [
    {
     "data": {
      "text/plain": [
       "(list, tuple, dict)"
      ]
     },
     "execution_count": 4,
     "metadata": {},
     "output_type": "execute_result"
    }
   ],
   "source": [
    "type(x),type(y),type(z)"
   ]
  },
  {
   "cell_type": "code",
   "execution_count": 5,
   "id": "4186df76-f502-420c-ac44-84cf07eaf5cc",
   "metadata": {},
   "outputs": [],
   "source": [
    "course = \"Computational Mathematics with SageMath.\""
   ]
  },
  {
   "cell_type": "code",
   "execution_count": 6,
   "id": "ca57890e-accc-48c4-b865-f66cac801b24",
   "metadata": {},
   "outputs": [
    {
     "data": {
      "text/plain": [
       "str"
      ]
     },
     "execution_count": 6,
     "metadata": {},
     "output_type": "execute_result"
    }
   ],
   "source": [
    "type(course)"
   ]
  },
  {
   "cell_type": "code",
   "execution_count": 7,
   "id": "26bd81c0-14be-4026-8252-2141c635aee1",
   "metadata": {},
   "outputs": [
    {
     "data": {
      "text/plain": [
       "40"
      ]
     },
     "execution_count": 7,
     "metadata": {},
     "output_type": "execute_result"
    }
   ],
   "source": [
    "len(course)"
   ]
  },
  {
   "cell_type": "code",
   "execution_count": 8,
   "id": "3365b3c3-2610-4946-939e-1489bcde8d45",
   "metadata": {},
   "outputs": [
    {
     "data": {
      "text/plain": [
       "('C', 'a', '.')"
      ]
     },
     "execution_count": 8,
     "metadata": {},
     "output_type": "execute_result"
    }
   ],
   "source": [
    "course[0], course[20], course[-1]"
   ]
  },
  {
   "cell_type": "code",
   "execution_count": 9,
   "id": "475690b5-45f4-4e88-93d0-020693594abb",
   "metadata": {},
   "outputs": [
    {
     "data": {
      "text/plain": [
       "'h'"
      ]
     },
     "execution_count": 9,
     "metadata": {},
     "output_type": "execute_result"
    }
   ],
   "source": [
    "course[-2]"
   ]
  },
  {
   "cell_type": "code",
   "execution_count": 10,
   "id": "d592d3e5-f86f-4861-9c42-6742702da798",
   "metadata": {},
   "outputs": [
    {
     "data": {
      "text/plain": [
       "'computational mathematics with sagemath.'"
      ]
     },
     "execution_count": 10,
     "metadata": {},
     "output_type": "execute_result"
    }
   ],
   "source": [
    "course.lower()"
   ]
  },
  {
   "cell_type": "code",
   "execution_count": 11,
   "id": "3f5d4f1f-7a04-43a3-93bf-d1dcbfb45e94",
   "metadata": {},
   "outputs": [
    {
     "data": {
      "text/plain": [
       "6"
      ]
     },
     "execution_count": 11,
     "metadata": {},
     "output_type": "execute_result"
    }
   ],
   "source": [
    "course.count('a')"
   ]
  },
  {
   "cell_type": "code",
   "execution_count": 13,
   "id": "8bd2ca81-cf10-4c5a-8e3e-5b57ef7922a8",
   "metadata": {},
   "outputs": [
    {
     "data": {
      "text/plain": [
       "['Computational', 'Mathematics', 'with', 'SageMath.']"
      ]
     },
     "execution_count": 13,
     "metadata": {},
     "output_type": "execute_result"
    }
   ],
   "source": [
    "course.split()"
   ]
  },
  {
   "cell_type": "code",
   "execution_count": 14,
   "id": "ed6aee5c-0e06-4efd-8903-e1820e091018",
   "metadata": {},
   "outputs": [
    {
     "name": "stdout",
     "output_type": "stream",
     "text": [
      "['C', 'o', 'm', 'p', 'u', 't', 'a', 't', 'i', 'o', 'n', 'a', 'l', ' ', 'M', 'a', 't', 'h', 'e', 'm', 'a', 't', 'i', 'c', 's', ' ', 'w', 'i', 't', 'h', ' ', 'S', 'a', 'g', 'e', 'M', 'a', 't', 'h', '.']\n"
     ]
    }
   ],
   "source": [
    "print(list(course))"
   ]
  },
  {
   "cell_type": "code",
   "execution_count": 16,
   "id": "9f296aba-cbb0-4535-a0d0-aea18773ee85",
   "metadata": {},
   "outputs": [
    {
     "data": {
      "text/plain": [
       "'Computational Mathematics with SageMath. Computational Mathematics with SageMath.'"
      ]
     },
     "execution_count": 16,
     "metadata": {},
     "output_type": "execute_result"
    }
   ],
   "source": [
    "course + ' ' +course"
   ]
  },
  {
   "cell_type": "code",
   "execution_count": 19,
   "id": "233c6a43-879f-4b30-acf0-a97cbbe36391",
   "metadata": {},
   "outputs": [
    {
     "data": {
      "text/plain": [
       "'Computational Mathematics with SageMath.Computational Mathematics with SageMath.Computational Mathematics with SageMath.'"
      ]
     },
     "execution_count": 19,
     "metadata": {},
     "output_type": "execute_result"
    }
   ],
   "source": [
    "course * 3"
   ]
  },
  {
   "cell_type": "code",
   "execution_count": 20,
   "id": "cf335876-73cf-4cdb-86c8-71978159c889",
   "metadata": {},
   "outputs": [],
   "source": [
    "L = [2, 3, 5, 7, 11, 13, 17, 19, 23, 29]"
   ]
  },
  {
   "cell_type": "code",
   "execution_count": 21,
   "id": "3019784d-32f7-4b09-99bf-28ceb25a2173",
   "metadata": {},
   "outputs": [
    {
     "data": {
      "text/plain": [
       "10"
      ]
     },
     "execution_count": 21,
     "metadata": {},
     "output_type": "execute_result"
    }
   ],
   "source": [
    "len(L)"
   ]
  },
  {
   "cell_type": "code",
   "execution_count": 22,
   "id": "0193e022-83c8-47fe-9c03-3cbd923415ed",
   "metadata": {},
   "outputs": [
    {
     "data": {
      "text/plain": [
       "list"
      ]
     },
     "execution_count": 22,
     "metadata": {},
     "output_type": "execute_result"
    }
   ],
   "source": [
    "type(L)"
   ]
  },
  {
   "cell_type": "code",
   "execution_count": 24,
   "id": "c79ccab6-c648-4f9b-9348-665c484bb81b",
   "metadata": {},
   "outputs": [
    {
     "data": {
      "text/plain": [
       "2"
      ]
     },
     "execution_count": 24,
     "metadata": {},
     "output_type": "execute_result"
    }
   ],
   "source": [
    "L[0]"
   ]
  },
  {
   "cell_type": "code",
   "execution_count": 26,
   "id": "7e3d8fe8-3906-46e3-a343-20a18c19ccc4",
   "metadata": {},
   "outputs": [
    {
     "data": {
      "text/plain": [
       "[3, 5, 7, 11]"
      ]
     },
     "execution_count": 26,
     "metadata": {},
     "output_type": "execute_result"
    }
   ],
   "source": [
    "L[1:5]"
   ]
  },
  {
   "cell_type": "code",
   "execution_count": 31,
   "id": "0478854f-9ef2-4a95-bcc6-170747a797df",
   "metadata": {},
   "outputs": [
    {
     "data": {
      "text/plain": [
       "[2, 3, 5, 7, 11, 13, 17, 19, 23, 29, 31, 31, 31, 31]"
      ]
     },
     "execution_count": 31,
     "metadata": {},
     "output_type": "execute_result"
    }
   ],
   "source": [
    "L.append(31)\n",
    "L"
   ]
  },
  {
   "cell_type": "code",
   "execution_count": 33,
   "id": "cece6624-ae4c-4a96-b3c8-ca96659a1fa9",
   "metadata": {},
   "outputs": [
    {
     "data": {
      "text/plain": [
       "[2, 3, 10, 7, 11, 13, 17, 19, 23, 29, 31, 31, 31, 31]"
      ]
     },
     "execution_count": 33,
     "metadata": {},
     "output_type": "execute_result"
    }
   ],
   "source": [
    "L[2] = 10\n",
    "L"
   ]
  },
  {
   "cell_type": "code",
   "execution_count": 34,
   "id": "61a49b6f-55c6-40d0-9b28-6dfcf3c09a75",
   "metadata": {},
   "outputs": [
    {
     "data": {
      "text/plain": [
       "[2, 3, 10, 7, 11, 100, 13, 17, 19, 23, 29, 31, 31, 31, 31]"
      ]
     },
     "execution_count": 34,
     "metadata": {},
     "output_type": "execute_result"
    }
   ],
   "source": [
    "L.insert(5,100)\n",
    "L"
   ]
  },
  {
   "cell_type": "code",
   "execution_count": 35,
   "id": "60c2eb53-ed7e-4020-a85a-187f6049757a",
   "metadata": {},
   "outputs": [
    {
     "data": {
      "text/plain": [
       "8"
      ]
     },
     "execution_count": 35,
     "metadata": {},
     "output_type": "execute_result"
    }
   ],
   "source": [
    "L.index(19)"
   ]
  },
  {
   "cell_type": "code",
   "execution_count": 36,
   "id": "f5789c01-a514-4aea-b775-00caec7ae9bf",
   "metadata": {},
   "outputs": [],
   "source": [
    "L.remove(100)"
   ]
  },
  {
   "cell_type": "code",
   "execution_count": 39,
   "id": "3329e93a-7b85-40ee-8055-f1ada364c7a2",
   "metadata": {},
   "outputs": [
    {
     "data": {
      "text/plain": [
       "[2, 3, 10, 7, 11, 13, 17, 19, 23, 29, 31, 31, 31, 31]"
      ]
     },
     "execution_count": 39,
     "metadata": {},
     "output_type": "execute_result"
    }
   ],
   "source": [
    "L"
   ]
  },
  {
   "cell_type": "code",
   "execution_count": 40,
   "id": "f53d27ad-9b7b-4b24-aa78-bd2342c6096e",
   "metadata": {},
   "outputs": [],
   "source": [
    "M = [37, 41,43, 53]"
   ]
  },
  {
   "cell_type": "code",
   "execution_count": 41,
   "id": "2927cf43-2d33-4fd9-8c3c-586976a1d316",
   "metadata": {},
   "outputs": [
    {
     "data": {
      "text/plain": [
       "[2, 3, 10, 7, 11, 13, 17, 19, 23, 29, 31, 31, 31, 31, 37, 41, 43, 53]"
      ]
     },
     "execution_count": 41,
     "metadata": {},
     "output_type": "execute_result"
    }
   ],
   "source": [
    "L+M"
   ]
  },
  {
   "cell_type": "code",
   "execution_count": 42,
   "id": "c8945879-3f6f-4c15-806b-7ddc4f464e09",
   "metadata": {},
   "outputs": [],
   "source": [
    "A = [[1, 2, 3], [4, 5, 6,], [7, 8, 9]]"
   ]
  },
  {
   "cell_type": "code",
   "execution_count": 43,
   "id": "e4ec80f6-bd02-45d1-84ad-60e0228a796e",
   "metadata": {},
   "outputs": [
    {
     "data": {
      "text/plain": [
       "[4, 5, 6]"
      ]
     },
     "execution_count": 43,
     "metadata": {},
     "output_type": "execute_result"
    }
   ],
   "source": [
    "A[1]"
   ]
  },
  {
   "cell_type": "code",
   "execution_count": null,
   "id": "9576d408-55ff-414b-ae67-3ad1bec54541",
   "metadata": {},
   "outputs": [],
   "source": []
  }
 ],
 "metadata": {
  "kernelspec": {
   "display_name": "Python 3 (ipykernel)",
   "language": "python",
   "name": "python3"
  },
  "language_info": {
   "codemirror_mode": {
    "name": "ipython",
    "version": 3
   },
   "file_extension": ".py",
   "mimetype": "text/x-python",
   "name": "python",
   "nbconvert_exporter": "python",
   "pygments_lexer": "ipython3",
   "version": "3.12.1"
  }
 },
 "nbformat": 4,
 "nbformat_minor": 5
}
